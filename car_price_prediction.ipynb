{
 "cells": [
  {
   "cell_type": "markdown",
   "id": "5f801a62",
   "metadata": {},
   "source": [
    "## UK used car price prediction \n",
    "### author: Bakhtygerey Nakubov\n",
    "### data: https://www.kaggle.com/datasets/adityadesai13/used-car-dataset-ford-and-mercedes\n",
    "#### this is regression problem, and i will use some classic ML algoritms"
   ]
  },
  {
   "cell_type": "code",
   "execution_count": 2,
   "id": "39f20a73",
   "metadata": {},
   "outputs": [],
   "source": [
    "import numpy as np\n",
    "import pandas as pd\n",
    "import matplotlib.pyplot as plt\n",
    "import seaborn as sns\n",
    "import sklearn "
   ]
  },
  {
   "cell_type": "markdown",
   "id": "84d730de",
   "metadata": {},
   "source": [
    "### Getting data from files and transform to pd dataframe"
   ]
  },
  {
   "cell_type": "code",
   "execution_count": 3,
   "id": "7330b3d4",
   "metadata": {},
   "outputs": [
    {
     "data": {
      "text/html": [
       "<div>\n",
       "<style scoped>\n",
       "    .dataframe tbody tr th:only-of-type {\n",
       "        vertical-align: middle;\n",
       "    }\n",
       "\n",
       "    .dataframe tbody tr th {\n",
       "        vertical-align: top;\n",
       "    }\n",
       "\n",
       "    .dataframe thead th {\n",
       "        text-align: right;\n",
       "    }\n",
       "</style>\n",
       "<table border=\"1\" class=\"dataframe\">\n",
       "  <thead>\n",
       "    <tr style=\"text-align: right;\">\n",
       "      <th></th>\n",
       "      <th>model</th>\n",
       "      <th>year</th>\n",
       "      <th>price</th>\n",
       "      <th>transmission</th>\n",
       "      <th>mileage</th>\n",
       "      <th>fuelType</th>\n",
       "      <th>tax</th>\n",
       "      <th>mpg</th>\n",
       "      <th>engineSize</th>\n",
       "      <th>mark</th>\n",
       "    </tr>\n",
       "  </thead>\n",
       "  <tbody>\n",
       "    <tr>\n",
       "      <th>0</th>\n",
       "      <td>T-Roc</td>\n",
       "      <td>2019</td>\n",
       "      <td>25000</td>\n",
       "      <td>Automatic</td>\n",
       "      <td>13904</td>\n",
       "      <td>Diesel</td>\n",
       "      <td>145</td>\n",
       "      <td>49.6</td>\n",
       "      <td>2.0</td>\n",
       "      <td>vw</td>\n",
       "    </tr>\n",
       "    <tr>\n",
       "      <th>1</th>\n",
       "      <td>T-Roc</td>\n",
       "      <td>2019</td>\n",
       "      <td>26883</td>\n",
       "      <td>Automatic</td>\n",
       "      <td>4562</td>\n",
       "      <td>Diesel</td>\n",
       "      <td>145</td>\n",
       "      <td>49.6</td>\n",
       "      <td>2.0</td>\n",
       "      <td>vw</td>\n",
       "    </tr>\n",
       "    <tr>\n",
       "      <th>2</th>\n",
       "      <td>T-Roc</td>\n",
       "      <td>2019</td>\n",
       "      <td>20000</td>\n",
       "      <td>Manual</td>\n",
       "      <td>7414</td>\n",
       "      <td>Diesel</td>\n",
       "      <td>145</td>\n",
       "      <td>50.4</td>\n",
       "      <td>2.0</td>\n",
       "      <td>vw</td>\n",
       "    </tr>\n",
       "    <tr>\n",
       "      <th>3</th>\n",
       "      <td>T-Roc</td>\n",
       "      <td>2019</td>\n",
       "      <td>33492</td>\n",
       "      <td>Automatic</td>\n",
       "      <td>4825</td>\n",
       "      <td>Petrol</td>\n",
       "      <td>145</td>\n",
       "      <td>32.5</td>\n",
       "      <td>2.0</td>\n",
       "      <td>vw</td>\n",
       "    </tr>\n",
       "    <tr>\n",
       "      <th>4</th>\n",
       "      <td>T-Roc</td>\n",
       "      <td>2019</td>\n",
       "      <td>22900</td>\n",
       "      <td>Semi-Auto</td>\n",
       "      <td>6500</td>\n",
       "      <td>Petrol</td>\n",
       "      <td>150</td>\n",
       "      <td>39.8</td>\n",
       "      <td>1.5</td>\n",
       "      <td>vw</td>\n",
       "    </tr>\n",
       "    <tr>\n",
       "      <th>...</th>\n",
       "      <td>...</td>\n",
       "      <td>...</td>\n",
       "      <td>...</td>\n",
       "      <td>...</td>\n",
       "      <td>...</td>\n",
       "      <td>...</td>\n",
       "      <td>...</td>\n",
       "      <td>...</td>\n",
       "      <td>...</td>\n",
       "      <td>...</td>\n",
       "    </tr>\n",
       "    <tr>\n",
       "      <th>94322</th>\n",
       "      <td>A3</td>\n",
       "      <td>2020</td>\n",
       "      <td>16999</td>\n",
       "      <td>Manual</td>\n",
       "      <td>4018</td>\n",
       "      <td>Petrol</td>\n",
       "      <td>145</td>\n",
       "      <td>49.6</td>\n",
       "      <td>1.0</td>\n",
       "      <td>audi</td>\n",
       "    </tr>\n",
       "    <tr>\n",
       "      <th>94323</th>\n",
       "      <td>A3</td>\n",
       "      <td>2020</td>\n",
       "      <td>16999</td>\n",
       "      <td>Manual</td>\n",
       "      <td>1978</td>\n",
       "      <td>Petrol</td>\n",
       "      <td>150</td>\n",
       "      <td>49.6</td>\n",
       "      <td>1.0</td>\n",
       "      <td>audi</td>\n",
       "    </tr>\n",
       "    <tr>\n",
       "      <th>94324</th>\n",
       "      <td>A3</td>\n",
       "      <td>2020</td>\n",
       "      <td>17199</td>\n",
       "      <td>Manual</td>\n",
       "      <td>609</td>\n",
       "      <td>Petrol</td>\n",
       "      <td>150</td>\n",
       "      <td>49.6</td>\n",
       "      <td>1.0</td>\n",
       "      <td>audi</td>\n",
       "    </tr>\n",
       "    <tr>\n",
       "      <th>94325</th>\n",
       "      <td>Q3</td>\n",
       "      <td>2017</td>\n",
       "      <td>19499</td>\n",
       "      <td>Automatic</td>\n",
       "      <td>8646</td>\n",
       "      <td>Petrol</td>\n",
       "      <td>150</td>\n",
       "      <td>47.9</td>\n",
       "      <td>1.4</td>\n",
       "      <td>audi</td>\n",
       "    </tr>\n",
       "    <tr>\n",
       "      <th>94326</th>\n",
       "      <td>Q3</td>\n",
       "      <td>2016</td>\n",
       "      <td>15999</td>\n",
       "      <td>Manual</td>\n",
       "      <td>11855</td>\n",
       "      <td>Petrol</td>\n",
       "      <td>150</td>\n",
       "      <td>47.9</td>\n",
       "      <td>1.4</td>\n",
       "      <td>audi</td>\n",
       "    </tr>\n",
       "  </tbody>\n",
       "</table>\n",
       "<p>94327 rows × 10 columns</p>\n",
       "</div>"
      ],
      "text/plain": [
       "        model  year  price transmission  mileage fuelType  tax   mpg  \\\n",
       "0       T-Roc  2019  25000    Automatic    13904   Diesel  145  49.6   \n",
       "1       T-Roc  2019  26883    Automatic     4562   Diesel  145  49.6   \n",
       "2       T-Roc  2019  20000       Manual     7414   Diesel  145  50.4   \n",
       "3       T-Roc  2019  33492    Automatic     4825   Petrol  145  32.5   \n",
       "4       T-Roc  2019  22900    Semi-Auto     6500   Petrol  150  39.8   \n",
       "...       ...   ...    ...          ...      ...      ...  ...   ...   \n",
       "94322      A3  2020  16999       Manual     4018   Petrol  145  49.6   \n",
       "94323      A3  2020  16999       Manual     1978   Petrol  150  49.6   \n",
       "94324      A3  2020  17199       Manual      609   Petrol  150  49.6   \n",
       "94325      Q3  2017  19499    Automatic     8646   Petrol  150  47.9   \n",
       "94326      Q3  2016  15999       Manual    11855   Petrol  150  47.9   \n",
       "\n",
       "       engineSize  mark  \n",
       "0             2.0    vw  \n",
       "1             2.0    vw  \n",
       "2             2.0    vw  \n",
       "3             2.0    vw  \n",
       "4             1.5    vw  \n",
       "...           ...   ...  \n",
       "94322         1.0  audi  \n",
       "94323         1.0  audi  \n",
       "94324         1.0  audi  \n",
       "94325         1.4  audi  \n",
       "94326         1.4  audi  \n",
       "\n",
       "[94327 rows x 10 columns]"
      ]
     },
     "execution_count": 3,
     "metadata": {},
     "output_type": "execute_result"
    }
   ],
   "source": [
    "cars = ['audi', 'bmw', 'ford', 'merc', 'skoda', 'toyota', 'vauxhall', 'vw']\n",
    "df = pd.DataFrame()\n",
    "for marks in cars: \n",
    "    df1 = pd.read_csv('cars_data/' + marks + '.csv')\n",
    "    df1['mark'] = marks\n",
    "    df = pd.concat([df1, df], ignore_index = True)\n",
    "df"
   ]
  },
  {
   "cell_type": "markdown",
   "id": "01c2bfad",
   "metadata": {},
   "source": [
    "Below we can see that electric and hybrid cars very different(mpg is too high, taxes is too low) from cars with petrol and diesel engine,\n",
    "i will use only gas cars(petrol, diesel), because i can say electric cars it is outliers, and their count as not much as gas cars"
   ]
  },
  {
   "cell_type": "code",
   "execution_count": 5,
   "id": "469e595b",
   "metadata": {},
   "outputs": [
    {
     "data": {
      "text/html": [
       "<div>\n",
       "<style scoped>\n",
       "    .dataframe tbody tr th:only-of-type {\n",
       "        vertical-align: middle;\n",
       "    }\n",
       "\n",
       "    .dataframe tbody tr th {\n",
       "        vertical-align: top;\n",
       "    }\n",
       "\n",
       "    .dataframe thead th {\n",
       "        text-align: right;\n",
       "    }\n",
       "</style>\n",
       "<table border=\"1\" class=\"dataframe\">\n",
       "  <thead>\n",
       "    <tr style=\"text-align: right;\">\n",
       "      <th></th>\n",
       "      <th>year</th>\n",
       "      <th>price</th>\n",
       "      <th>mileage</th>\n",
       "      <th>tax</th>\n",
       "      <th>mpg</th>\n",
       "      <th>engineSize</th>\n",
       "    </tr>\n",
       "    <tr>\n",
       "      <th>fuelType</th>\n",
       "      <th></th>\n",
       "      <th></th>\n",
       "      <th></th>\n",
       "      <th></th>\n",
       "      <th></th>\n",
       "      <th></th>\n",
       "    </tr>\n",
       "  </thead>\n",
       "  <tbody>\n",
       "    <tr>\n",
       "      <th>Diesel</th>\n",
       "      <td>2016.904247</td>\n",
       "      <td>19533.723754</td>\n",
       "      <td>28759.766658</td>\n",
       "      <td>114.510936</td>\n",
       "      <td>58.324822</td>\n",
       "      <td>2.002871</td>\n",
       "    </tr>\n",
       "    <tr>\n",
       "      <th>Electric</th>\n",
       "      <td>2015.833333</td>\n",
       "      <td>16645.333333</td>\n",
       "      <td>21360.666667</td>\n",
       "      <td>22.500000</td>\n",
       "      <td>297.066667</td>\n",
       "      <td>1.066667</td>\n",
       "    </tr>\n",
       "    <tr>\n",
       "      <th>Hybrid</th>\n",
       "      <td>2016.989373</td>\n",
       "      <td>19298.066691</td>\n",
       "      <td>24903.728106</td>\n",
       "      <td>65.192378</td>\n",
       "      <td>91.179406</td>\n",
       "      <td>1.789630</td>\n",
       "    </tr>\n",
       "    <tr>\n",
       "      <th>Other</th>\n",
       "      <td>2017.402439</td>\n",
       "      <td>17462.219512</td>\n",
       "      <td>21107.743902</td>\n",
       "      <td>103.658537</td>\n",
       "      <td>85.635772</td>\n",
       "      <td>1.508130</td>\n",
       "    </tr>\n",
       "    <tr>\n",
       "      <th>Petrol</th>\n",
       "      <td>2017.228347</td>\n",
       "      <td>14988.282032</td>\n",
       "      <td>18809.928786</td>\n",
       "      <td>127.576404</td>\n",
       "      <td>50.844182</td>\n",
       "      <td>1.419984</td>\n",
       "    </tr>\n",
       "  </tbody>\n",
       "</table>\n",
       "</div>"
      ],
      "text/plain": [
       "                 year         price       mileage         tax         mpg  \\\n",
       "fuelType                                                                    \n",
       "Diesel    2016.904247  19533.723754  28759.766658  114.510936   58.324822   \n",
       "Electric  2015.833333  16645.333333  21360.666667   22.500000  297.066667   \n",
       "Hybrid    2016.989373  19298.066691  24903.728106   65.192378   91.179406   \n",
       "Other     2017.402439  17462.219512  21107.743902  103.658537   85.635772   \n",
       "Petrol    2017.228347  14988.282032  18809.928786  127.576404   50.844182   \n",
       "\n",
       "          engineSize  \n",
       "fuelType              \n",
       "Diesel      2.002871  \n",
       "Electric    1.066667  \n",
       "Hybrid      1.789630  \n",
       "Other       1.508130  \n",
       "Petrol      1.419984  "
      ]
     },
     "execution_count": 5,
     "metadata": {},
     "output_type": "execute_result"
    }
   ],
   "source": [
    "df.groupby('fuelType').mean()"
   ]
  },
  {
   "cell_type": "markdown",
   "id": "8e529bb1",
   "metadata": {},
   "source": [
    "taking gas cars and creating new feature 'age', i think it better thay 'year' feature, it will better converge in gradient descend"
   ]
  },
  {
   "cell_type": "code",
   "execution_count": 6,
   "id": "0f0b935a",
   "metadata": {},
   "outputs": [
    {
     "data": {
      "text/html": [
       "<div>\n",
       "<style scoped>\n",
       "    .dataframe tbody tr th:only-of-type {\n",
       "        vertical-align: middle;\n",
       "    }\n",
       "\n",
       "    .dataframe tbody tr th {\n",
       "        vertical-align: top;\n",
       "    }\n",
       "\n",
       "    .dataframe thead th {\n",
       "        text-align: right;\n",
       "    }\n",
       "</style>\n",
       "<table border=\"1\" class=\"dataframe\">\n",
       "  <thead>\n",
       "    <tr style=\"text-align: right;\">\n",
       "      <th></th>\n",
       "      <th>model</th>\n",
       "      <th>price</th>\n",
       "      <th>transmission</th>\n",
       "      <th>mileage</th>\n",
       "      <th>fuelType</th>\n",
       "      <th>tax</th>\n",
       "      <th>mpg</th>\n",
       "      <th>engineSize</th>\n",
       "      <th>mark</th>\n",
       "      <th>age</th>\n",
       "    </tr>\n",
       "  </thead>\n",
       "  <tbody>\n",
       "    <tr>\n",
       "      <th>0</th>\n",
       "      <td>T-Roc</td>\n",
       "      <td>25000</td>\n",
       "      <td>Automatic</td>\n",
       "      <td>13904</td>\n",
       "      <td>Diesel</td>\n",
       "      <td>145</td>\n",
       "      <td>49.6</td>\n",
       "      <td>2.0</td>\n",
       "      <td>vw</td>\n",
       "      <td>3</td>\n",
       "    </tr>\n",
       "    <tr>\n",
       "      <th>1</th>\n",
       "      <td>T-Roc</td>\n",
       "      <td>26883</td>\n",
       "      <td>Automatic</td>\n",
       "      <td>4562</td>\n",
       "      <td>Diesel</td>\n",
       "      <td>145</td>\n",
       "      <td>49.6</td>\n",
       "      <td>2.0</td>\n",
       "      <td>vw</td>\n",
       "      <td>3</td>\n",
       "    </tr>\n",
       "    <tr>\n",
       "      <th>2</th>\n",
       "      <td>T-Roc</td>\n",
       "      <td>20000</td>\n",
       "      <td>Manual</td>\n",
       "      <td>7414</td>\n",
       "      <td>Diesel</td>\n",
       "      <td>145</td>\n",
       "      <td>50.4</td>\n",
       "      <td>2.0</td>\n",
       "      <td>vw</td>\n",
       "      <td>3</td>\n",
       "    </tr>\n",
       "    <tr>\n",
       "      <th>3</th>\n",
       "      <td>T-Roc</td>\n",
       "      <td>33492</td>\n",
       "      <td>Automatic</td>\n",
       "      <td>4825</td>\n",
       "      <td>Petrol</td>\n",
       "      <td>145</td>\n",
       "      <td>32.5</td>\n",
       "      <td>2.0</td>\n",
       "      <td>vw</td>\n",
       "      <td>3</td>\n",
       "    </tr>\n",
       "    <tr>\n",
       "      <th>4</th>\n",
       "      <td>T-Roc</td>\n",
       "      <td>22900</td>\n",
       "      <td>Semi-Auto</td>\n",
       "      <td>6500</td>\n",
       "      <td>Petrol</td>\n",
       "      <td>150</td>\n",
       "      <td>39.8</td>\n",
       "      <td>1.5</td>\n",
       "      <td>vw</td>\n",
       "      <td>3</td>\n",
       "    </tr>\n",
       "    <tr>\n",
       "      <th>...</th>\n",
       "      <td>...</td>\n",
       "      <td>...</td>\n",
       "      <td>...</td>\n",
       "      <td>...</td>\n",
       "      <td>...</td>\n",
       "      <td>...</td>\n",
       "      <td>...</td>\n",
       "      <td>...</td>\n",
       "      <td>...</td>\n",
       "      <td>...</td>\n",
       "    </tr>\n",
       "    <tr>\n",
       "      <th>94322</th>\n",
       "      <td>A3</td>\n",
       "      <td>16999</td>\n",
       "      <td>Manual</td>\n",
       "      <td>4018</td>\n",
       "      <td>Petrol</td>\n",
       "      <td>145</td>\n",
       "      <td>49.6</td>\n",
       "      <td>1.0</td>\n",
       "      <td>audi</td>\n",
       "      <td>2</td>\n",
       "    </tr>\n",
       "    <tr>\n",
       "      <th>94323</th>\n",
       "      <td>A3</td>\n",
       "      <td>16999</td>\n",
       "      <td>Manual</td>\n",
       "      <td>1978</td>\n",
       "      <td>Petrol</td>\n",
       "      <td>150</td>\n",
       "      <td>49.6</td>\n",
       "      <td>1.0</td>\n",
       "      <td>audi</td>\n",
       "      <td>2</td>\n",
       "    </tr>\n",
       "    <tr>\n",
       "      <th>94324</th>\n",
       "      <td>A3</td>\n",
       "      <td>17199</td>\n",
       "      <td>Manual</td>\n",
       "      <td>609</td>\n",
       "      <td>Petrol</td>\n",
       "      <td>150</td>\n",
       "      <td>49.6</td>\n",
       "      <td>1.0</td>\n",
       "      <td>audi</td>\n",
       "      <td>2</td>\n",
       "    </tr>\n",
       "    <tr>\n",
       "      <th>94325</th>\n",
       "      <td>Q3</td>\n",
       "      <td>19499</td>\n",
       "      <td>Automatic</td>\n",
       "      <td>8646</td>\n",
       "      <td>Petrol</td>\n",
       "      <td>150</td>\n",
       "      <td>47.9</td>\n",
       "      <td>1.4</td>\n",
       "      <td>audi</td>\n",
       "      <td>5</td>\n",
       "    </tr>\n",
       "    <tr>\n",
       "      <th>94326</th>\n",
       "      <td>Q3</td>\n",
       "      <td>15999</td>\n",
       "      <td>Manual</td>\n",
       "      <td>11855</td>\n",
       "      <td>Petrol</td>\n",
       "      <td>150</td>\n",
       "      <td>47.9</td>\n",
       "      <td>1.4</td>\n",
       "      <td>audi</td>\n",
       "      <td>6</td>\n",
       "    </tr>\n",
       "  </tbody>\n",
       "</table>\n",
       "<p>91345 rows × 10 columns</p>\n",
       "</div>"
      ],
      "text/plain": [
       "        model  price transmission  mileage fuelType  tax   mpg  engineSize  \\\n",
       "0       T-Roc  25000    Automatic    13904   Diesel  145  49.6         2.0   \n",
       "1       T-Roc  26883    Automatic     4562   Diesel  145  49.6         2.0   \n",
       "2       T-Roc  20000       Manual     7414   Diesel  145  50.4         2.0   \n",
       "3       T-Roc  33492    Automatic     4825   Petrol  145  32.5         2.0   \n",
       "4       T-Roc  22900    Semi-Auto     6500   Petrol  150  39.8         1.5   \n",
       "...       ...    ...          ...      ...      ...  ...   ...         ...   \n",
       "94322      A3  16999       Manual     4018   Petrol  145  49.6         1.0   \n",
       "94323      A3  16999       Manual     1978   Petrol  150  49.6         1.0   \n",
       "94324      A3  17199       Manual      609   Petrol  150  49.6         1.0   \n",
       "94325      Q3  19499    Automatic     8646   Petrol  150  47.9         1.4   \n",
       "94326      Q3  15999       Manual    11855   Petrol  150  47.9         1.4   \n",
       "\n",
       "       mark  age  \n",
       "0        vw    3  \n",
       "1        vw    3  \n",
       "2        vw    3  \n",
       "3        vw    3  \n",
       "4        vw    3  \n",
       "...     ...  ...  \n",
       "94322  audi    2  \n",
       "94323  audi    2  \n",
       "94324  audi    2  \n",
       "94325  audi    5  \n",
       "94326  audi    6  \n",
       "\n",
       "[91345 rows x 10 columns]"
      ]
     },
     "execution_count": 6,
     "metadata": {},
     "output_type": "execute_result"
    }
   ],
   "source": [
    "#df = df[df['fuelType'] == 'Diesel' | df['fuelType'] == 'Petrol']\n",
    "df_gas = df[(df['fuelType'] == 'Petrol') | (df['fuelType'] == 'Diesel')]\n",
    "df_gas = df_gas[df_gas['year'] < 2023]\n",
    "df_gas['age'] = 2022 - df_gas['year']\n",
    "df_gas = df_gas.drop('year', axis = 1)\n",
    "df_gas"
   ]
  },
  {
   "cell_type": "code",
   "execution_count": 7,
   "id": "047f06ae",
   "metadata": {},
   "outputs": [
    {
     "data": {
      "text/html": [
       "<style type=\"text/css\">\n",
       "#T_6973b_row0_col0, #T_6973b_row1_col1, #T_6973b_row2_col2, #T_6973b_row3_col3, #T_6973b_row4_col4, #T_6973b_row5_col5 {\n",
       "  background-color: #b40426;\n",
       "  color: #f1f1f1;\n",
       "}\n",
       "#T_6973b_row0_col1 {\n",
       "  background-color: #f6bfa6;\n",
       "  color: #000000;\n",
       "}\n",
       "#T_6973b_row0_col2, #T_6973b_row2_col0, #T_6973b_row2_col1, #T_6973b_row3_col4, #T_6973b_row4_col3, #T_6973b_row4_col5 {\n",
       "  background-color: #3b4cc0;\n",
       "  color: #f1f1f1;\n",
       "}\n",
       "#T_6973b_row0_col3 {\n",
       "  background-color: #cdd9ec;\n",
       "  color: #000000;\n",
       "}\n",
       "#T_6973b_row0_col4 {\n",
       "  background-color: #82a6fb;\n",
       "  color: #f1f1f1;\n",
       "}\n",
       "#T_6973b_row0_col5 {\n",
       "  background-color: #7093f3;\n",
       "  color: #f1f1f1;\n",
       "}\n",
       "#T_6973b_row1_col0, #T_6973b_row1_col5 {\n",
       "  background-color: #f7a98b;\n",
       "  color: #000000;\n",
       "}\n",
       "#T_6973b_row1_col2 {\n",
       "  background-color: #7597f6;\n",
       "  color: #f1f1f1;\n",
       "}\n",
       "#T_6973b_row1_col3 {\n",
       "  background-color: #e3d9d3;\n",
       "  color: #000000;\n",
       "}\n",
       "#T_6973b_row1_col4 {\n",
       "  background-color: #5a78e4;\n",
       "  color: #f1f1f1;\n",
       "}\n",
       "#T_6973b_row2_col3 {\n",
       "  background-color: #6c8ff1;\n",
       "  color: #f1f1f1;\n",
       "}\n",
       "#T_6973b_row2_col4 {\n",
       "  background-color: #ccd9ed;\n",
       "  color: #000000;\n",
       "}\n",
       "#T_6973b_row2_col5 {\n",
       "  background-color: #9abbff;\n",
       "  color: #000000;\n",
       "}\n",
       "#T_6973b_row3_col0 {\n",
       "  background-color: #e6d7cf;\n",
       "  color: #000000;\n",
       "}\n",
       "#T_6973b_row3_col1 {\n",
       "  background-color: #e0dbd8;\n",
       "  color: #000000;\n",
       "}\n",
       "#T_6973b_row3_col2 {\n",
       "  background-color: #9ebeff;\n",
       "  color: #000000;\n",
       "}\n",
       "#T_6973b_row3_col5 {\n",
       "  background-color: #c9d7f0;\n",
       "  color: #000000;\n",
       "}\n",
       "#T_6973b_row4_col0 {\n",
       "  background-color: #afcafc;\n",
       "  color: #000000;\n",
       "}\n",
       "#T_6973b_row4_col1 {\n",
       "  background-color: #5470de;\n",
       "  color: #f1f1f1;\n",
       "}\n",
       "#T_6973b_row4_col2 {\n",
       "  background-color: #e5d8d1;\n",
       "  color: #000000;\n",
       "}\n",
       "#T_6973b_row5_col0 {\n",
       "  background-color: #c1d4f4;\n",
       "  color: #000000;\n",
       "}\n",
       "#T_6973b_row5_col1 {\n",
       "  background-color: #f59c7d;\n",
       "  color: #000000;\n",
       "}\n",
       "#T_6973b_row5_col2 {\n",
       "  background-color: #d9dce1;\n",
       "  color: #000000;\n",
       "}\n",
       "#T_6973b_row5_col3 {\n",
       "  background-color: #dedcdb;\n",
       "  color: #000000;\n",
       "}\n",
       "#T_6973b_row5_col4 {\n",
       "  background-color: #6687ed;\n",
       "  color: #f1f1f1;\n",
       "}\n",
       "</style>\n",
       "<table id=\"T_6973b\">\n",
       "  <thead>\n",
       "    <tr>\n",
       "      <th class=\"blank level0\" >&nbsp;</th>\n",
       "      <th id=\"T_6973b_level0_col0\" class=\"col_heading level0 col0\" >year</th>\n",
       "      <th id=\"T_6973b_level0_col1\" class=\"col_heading level0 col1\" >price</th>\n",
       "      <th id=\"T_6973b_level0_col2\" class=\"col_heading level0 col2\" >mileage</th>\n",
       "      <th id=\"T_6973b_level0_col3\" class=\"col_heading level0 col3\" >tax</th>\n",
       "      <th id=\"T_6973b_level0_col4\" class=\"col_heading level0 col4\" >mpg</th>\n",
       "      <th id=\"T_6973b_level0_col5\" class=\"col_heading level0 col5\" >engineSize</th>\n",
       "    </tr>\n",
       "  </thead>\n",
       "  <tbody>\n",
       "    <tr>\n",
       "      <th id=\"T_6973b_level0_row0\" class=\"row_heading level0 row0\" >year</th>\n",
       "      <td id=\"T_6973b_row0_col0\" class=\"data row0 col0\" >1.000000</td>\n",
       "      <td id=\"T_6973b_row0_col1\" class=\"data row0 col1\" >0.491989</td>\n",
       "      <td id=\"T_6973b_row0_col2\" class=\"data row0 col2\" >-0.739623</td>\n",
       "      <td id=\"T_6973b_row0_col3\" class=\"data row0 col3\" >0.192472</td>\n",
       "      <td id=\"T_6973b_row0_col4\" class=\"data row0 col4\" >-0.131081</td>\n",
       "      <td id=\"T_6973b_row0_col5\" class=\"data row0 col5\" >-0.038699</td>\n",
       "    </tr>\n",
       "    <tr>\n",
       "      <th id=\"T_6973b_level0_row1\" class=\"row_heading level0 row1\" >price</th>\n",
       "      <td id=\"T_6973b_row1_col0\" class=\"data row1 col0\" >0.491989</td>\n",
       "      <td id=\"T_6973b_row1_col1\" class=\"data row1 col1\" >1.000000</td>\n",
       "      <td id=\"T_6973b_row1_col2\" class=\"data row1 col2\" >-0.421421</td>\n",
       "      <td id=\"T_6973b_row1_col3\" class=\"data row1 col3\" >0.309715</td>\n",
       "      <td id=\"T_6973b_row1_col4\" class=\"data row1 col4\" >-0.299290</td>\n",
       "      <td id=\"T_6973b_row1_col5\" class=\"data row1 col5\" >0.637989</td>\n",
       "    </tr>\n",
       "    <tr>\n",
       "      <th id=\"T_6973b_level0_row2\" class=\"row_heading level0 row2\" >mileage</th>\n",
       "      <td id=\"T_6973b_row2_col0\" class=\"data row2 col0\" >-0.739623</td>\n",
       "      <td id=\"T_6973b_row2_col1\" class=\"data row2 col1\" >-0.421421</td>\n",
       "      <td id=\"T_6973b_row2_col2\" class=\"data row2 col2\" >1.000000</td>\n",
       "      <td id=\"T_6973b_row2_col3\" class=\"data row2 col3\" >-0.221361</td>\n",
       "      <td id=\"T_6973b_row2_col4\" class=\"data row2 col4\" >0.185540</td>\n",
       "      <td id=\"T_6973b_row2_col5\" class=\"data row2 col5\" >0.105938</td>\n",
       "    </tr>\n",
       "    <tr>\n",
       "      <th id=\"T_6973b_level0_row3\" class=\"row_heading level0 row3\" >tax</th>\n",
       "      <td id=\"T_6973b_row3_col0\" class=\"data row3 col0\" >0.192472</td>\n",
       "      <td id=\"T_6973b_row3_col1\" class=\"data row3 col1\" >0.309715</td>\n",
       "      <td id=\"T_6973b_row3_col2\" class=\"data row3 col2\" >-0.221361</td>\n",
       "      <td id=\"T_6973b_row3_col3\" class=\"data row3 col3\" >1.000000</td>\n",
       "      <td id=\"T_6973b_row3_col4\" class=\"data row3 col4\" >-0.451656</td>\n",
       "      <td id=\"T_6973b_row3_col5\" class=\"data row3 col5\" >0.281768</td>\n",
       "    </tr>\n",
       "    <tr>\n",
       "      <th id=\"T_6973b_level0_row4\" class=\"row_heading level0 row4\" >mpg</th>\n",
       "      <td id=\"T_6973b_row4_col0\" class=\"data row4 col0\" >-0.131081</td>\n",
       "      <td id=\"T_6973b_row4_col1\" class=\"data row4 col1\" >-0.299290</td>\n",
       "      <td id=\"T_6973b_row4_col2\" class=\"data row4 col2\" >0.185540</td>\n",
       "      <td id=\"T_6973b_row4_col3\" class=\"data row4 col3\" >-0.451656</td>\n",
       "      <td id=\"T_6973b_row4_col4\" class=\"data row4 col4\" >1.000000</td>\n",
       "      <td id=\"T_6973b_row4_col5\" class=\"data row4 col5\" >-0.251841</td>\n",
       "    </tr>\n",
       "    <tr>\n",
       "      <th id=\"T_6973b_level0_row5\" class=\"row_heading level0 row5\" >engineSize</th>\n",
       "      <td id=\"T_6973b_row5_col0\" class=\"data row5 col0\" >-0.038699</td>\n",
       "      <td id=\"T_6973b_row5_col1\" class=\"data row5 col1\" >0.637989</td>\n",
       "      <td id=\"T_6973b_row5_col2\" class=\"data row5 col2\" >0.105938</td>\n",
       "      <td id=\"T_6973b_row5_col3\" class=\"data row5 col3\" >0.281768</td>\n",
       "      <td id=\"T_6973b_row5_col4\" class=\"data row5 col4\" >-0.251841</td>\n",
       "      <td id=\"T_6973b_row5_col5\" class=\"data row5 col5\" >1.000000</td>\n",
       "    </tr>\n",
       "  </tbody>\n",
       "</table>\n"
      ],
      "text/plain": [
       "<pandas.io.formats.style.Styler at 0x1e3c90f7340>"
      ]
     },
     "execution_count": 7,
     "metadata": {},
     "output_type": "execute_result"
    }
   ],
   "source": [
    "corr = df.corr()\n",
    "corr.style.background_gradient(cmap='coolwarm')"
   ]
  },
  {
   "cell_type": "markdown",
   "id": "ef4c2a47",
   "metadata": {},
   "source": [
    "## finding outliers with zscore methode"
   ]
  },
  {
   "cell_type": "code",
   "execution_count": 8,
   "id": "1561bbc8",
   "metadata": {},
   "outputs": [
    {
     "data": {
      "text/html": [
       "<div>\n",
       "<style scoped>\n",
       "    .dataframe tbody tr th:only-of-type {\n",
       "        vertical-align: middle;\n",
       "    }\n",
       "\n",
       "    .dataframe tbody tr th {\n",
       "        vertical-align: top;\n",
       "    }\n",
       "\n",
       "    .dataframe thead th {\n",
       "        text-align: right;\n",
       "    }\n",
       "</style>\n",
       "<table border=\"1\" class=\"dataframe\">\n",
       "  <thead>\n",
       "    <tr style=\"text-align: right;\">\n",
       "      <th></th>\n",
       "      <th>price</th>\n",
       "      <th>mileage</th>\n",
       "      <th>tax</th>\n",
       "      <th>mpg</th>\n",
       "      <th>engineSize</th>\n",
       "      <th>age</th>\n",
       "    </tr>\n",
       "  </thead>\n",
       "  <tbody>\n",
       "    <tr>\n",
       "      <th>0</th>\n",
       "      <td>0.803219</td>\n",
       "      <td>-0.430706</td>\n",
       "      <td>0.368686</td>\n",
       "      <td>-0.407337</td>\n",
       "      <td>0.580540</td>\n",
       "      <td>-0.893456</td>\n",
       "    </tr>\n",
       "    <tr>\n",
       "      <th>1</th>\n",
       "      <td>0.990985</td>\n",
       "      <td>-0.868608</td>\n",
       "      <td>0.368686</td>\n",
       "      <td>-0.407337</td>\n",
       "      <td>0.580540</td>\n",
       "      <td>-0.893456</td>\n",
       "    </tr>\n",
       "    <tr>\n",
       "      <th>2</th>\n",
       "      <td>0.304635</td>\n",
       "      <td>-0.734922</td>\n",
       "      <td>0.368686</td>\n",
       "      <td>-0.334343</td>\n",
       "      <td>0.580540</td>\n",
       "      <td>-0.893456</td>\n",
       "    </tr>\n",
       "    <tr>\n",
       "      <th>3</th>\n",
       "      <td>1.650012</td>\n",
       "      <td>-0.856280</td>\n",
       "      <td>0.368686</td>\n",
       "      <td>-1.967575</td>\n",
       "      <td>0.580540</td>\n",
       "      <td>-0.893456</td>\n",
       "    </tr>\n",
       "    <tr>\n",
       "      <th>4</th>\n",
       "      <td>0.593814</td>\n",
       "      <td>-0.777765</td>\n",
       "      <td>0.448667</td>\n",
       "      <td>-1.301508</td>\n",
       "      <td>-0.301449</td>\n",
       "      <td>-0.893456</td>\n",
       "    </tr>\n",
       "    <tr>\n",
       "      <th>...</th>\n",
       "      <td>...</td>\n",
       "      <td>...</td>\n",
       "      <td>...</td>\n",
       "      <td>...</td>\n",
       "      <td>...</td>\n",
       "      <td>...</td>\n",
       "    </tr>\n",
       "    <tr>\n",
       "      <th>94322</th>\n",
       "      <td>0.005386</td>\n",
       "      <td>-0.894107</td>\n",
       "      <td>0.368686</td>\n",
       "      <td>-0.407337</td>\n",
       "      <td>-1.183438</td>\n",
       "      <td>-1.360834</td>\n",
       "    </tr>\n",
       "    <tr>\n",
       "      <th>94323</th>\n",
       "      <td>0.005386</td>\n",
       "      <td>-0.989731</td>\n",
       "      <td>0.448667</td>\n",
       "      <td>-0.407337</td>\n",
       "      <td>-1.183438</td>\n",
       "      <td>-1.360834</td>\n",
       "    </tr>\n",
       "    <tr>\n",
       "      <th>94324</th>\n",
       "      <td>0.025329</td>\n",
       "      <td>-1.053903</td>\n",
       "      <td>0.448667</td>\n",
       "      <td>-0.407337</td>\n",
       "      <td>-1.183438</td>\n",
       "      <td>-1.360834</td>\n",
       "    </tr>\n",
       "    <tr>\n",
       "      <th>94325</th>\n",
       "      <td>0.254677</td>\n",
       "      <td>-0.677172</td>\n",
       "      <td>0.448667</td>\n",
       "      <td>-0.562448</td>\n",
       "      <td>-0.477847</td>\n",
       "      <td>0.041301</td>\n",
       "    </tr>\n",
       "    <tr>\n",
       "      <th>94326</th>\n",
       "      <td>-0.094331</td>\n",
       "      <td>-0.526752</td>\n",
       "      <td>0.448667</td>\n",
       "      <td>-0.562448</td>\n",
       "      <td>-0.477847</td>\n",
       "      <td>0.508680</td>\n",
       "    </tr>\n",
       "  </tbody>\n",
       "</table>\n",
       "<p>77119 rows × 6 columns</p>\n",
       "</div>"
      ],
      "text/plain": [
       "          price   mileage       tax       mpg  engineSize       age\n",
       "0      0.803219 -0.430706  0.368686 -0.407337    0.580540 -0.893456\n",
       "1      0.990985 -0.868608  0.368686 -0.407337    0.580540 -0.893456\n",
       "2      0.304635 -0.734922  0.368686 -0.334343    0.580540 -0.893456\n",
       "3      1.650012 -0.856280  0.368686 -1.967575    0.580540 -0.893456\n",
       "4      0.593814 -0.777765  0.448667 -1.301508   -0.301449 -0.893456\n",
       "...         ...       ...       ...       ...         ...       ...\n",
       "94322  0.005386 -0.894107  0.368686 -0.407337   -1.183438 -1.360834\n",
       "94323  0.005386 -0.989731  0.448667 -0.407337   -1.183438 -1.360834\n",
       "94324  0.025329 -1.053903  0.448667 -0.407337   -1.183438 -1.360834\n",
       "94325  0.254677 -0.677172  0.448667 -0.562448   -0.477847  0.041301\n",
       "94326 -0.094331 -0.526752  0.448667 -0.562448   -0.477847  0.508680\n",
       "\n",
       "[77119 rows x 6 columns]"
      ]
     },
     "execution_count": 8,
     "metadata": {},
     "output_type": "execute_result"
    }
   ],
   "source": [
    "from scipy.stats import zscore\n",
    "df1 = df_gas\n",
    "df1 = df1[[ 'price', 'mileage', 'tax', 'mpg', 'engineSize', 'age']].apply(zscore)\n"
   ]
  },
  {
   "cell_type": "markdown",
   "id": "0546e56f",
   "metadata": {},
   "source": [
    "#### a lot of outliers :("
   ]
  },
  {
   "cell_type": "code",
   "execution_count": 159,
   "id": "2f56c71b",
   "metadata": {},
   "outputs": [
    {
     "data": {
      "image/png": "[encoded data removed]",
      "text/plain": [
       "<Figure size 432x288 with 1 Axes>"
      ]
     },
     "metadata": {
      "needs_background": "light"
     },
     "output_type": "display_data"
    }
   ],
   "source": [
    "\n",
    "#normalized_df=(df-df.mean())/df.std()\n",
    "ax = sns.boxplot(data = df1)"
   ]
  },
  {
   "cell_type": "markdown",
   "id": "585d2ea0",
   "metadata": {},
   "source": [
    "#### taking only rows with values in interval (-2std, 2std), now i don't have outliers, but i had to lose 19% of data"
   ]
  },
  {
   "cell_type": "code",
   "execution_count": 160,
   "id": "461f5cf4",
   "metadata": {},
   "outputs": [
    {
     "data": {
      "image/png": "[encoded data removed]",
      "text/plain": [
       "<Figure size 432x288 with 1 Axes>"
      ]
     },
     "metadata": {
      "needs_background": "light"
     },
     "output_type": "display_data"
    }
   ],
   "source": [
    "df2 = df1[df1.gt(-2)]\n",
    "df2 = df2[df2.lt(2)]\n",
    "df2 = df2.dropna()\n",
    "ax = sns.boxplot(data = df2)"
   ]
  },
  {
   "cell_type": "code",
   "execution_count": 19,
   "id": "47ad674b",
   "metadata": {},
   "outputs": [],
   "source": [
    "num_cols = ['age', 'mileage', 'tax', 'mpg', 'engineSize']\n",
    "cat_cols = ['model', 'transmission', 'fuelType', 'mark']\n",
    "df_gas = df_gas[df_gas.index.isin(df2.index)]\n"
   ]
  },
  {
   "cell_type": "markdown",
   "id": "2386f659",
   "metadata": {},
   "source": [
    "# models testing"
   ]
  },
  {
   "cell_type": "markdown",
   "id": "6feaf9b9",
   "metadata": {},
   "source": [
    "## first i will try simple linear regression"
   ]
  },
  {
   "cell_type": "markdown",
   "id": "5bdd5a1b",
   "metadata": {},
   "source": [
    "#### preprocesing data and dividing to train and test. we must to shuffle data, because data sorted by mark"
   ]
  },
  {
   "cell_type": "code",
   "execution_count": 170,
   "id": "33ba9620",
   "metadata": {},
   "outputs": [],
   "source": [
    "from sklearn.linear_model import LinearRegression\n",
    "from sklearn.model_selection import train_test_split\n",
    "from sklearn.preprocessing import StandardScaler, OneHotEncoder\n",
    "from sklearn.compose import ColumnTransformer\n",
    "\n",
    "X = df_gas.drop('price', axis = 1)\n",
    "Y = df_gas.price.to_numpy()\n",
    "\n",
    "preprocess = ColumnTransformer([('scaler', StandardScaler(), num_cols),\n",
    "                                 ('encoder', OneHotEncoder(), cat_cols)])\n",
    "X1 = preprocess.fit_transform(X)\n",
    "x_train, x_test, y_train, y_test = train_test_split(X1, Y, test_size=0.20, random_state=42, shuffle = True)\n",
    "\n",
    "\n"
   ]
  },
  {
   "cell_type": "markdown",
   "id": "72586c3e",
   "metadata": {},
   "source": [
    "#### we have good r2 score, but linear regression to simple. we should try polynomial regression"
   ]
  },
  {
   "cell_type": "code",
   "execution_count": 165,
   "id": "d1c84bfc",
   "metadata": {},
   "outputs": [
    {
     "data": {
      "text/plain": [
       "0.895536426430074"
      ]
     },
     "execution_count": 165,
     "metadata": {},
     "output_type": "execute_result"
    }
   ],
   "source": [
    "linear = LinearRegression()\n",
    "linear.fit(x_train, y_train)\n",
    "linear.score(x_test, y_test)"
   ]
  },
  {
   "cell_type": "code",
   "execution_count": null,
   "id": "b6213534",
   "metadata": {},
   "outputs": [],
   "source": []
  },
  {
   "cell_type": "code",
   "execution_count": 47,
   "id": "e6840756",
   "metadata": {},
   "outputs": [],
   "source": [
    "\n",
    "\n",
    "preprocess = ColumnTransformer([('scaler', StandardScaler(), num_cols),('polynom', PolynomialFeatures(7), num_cols), ('encoder', OneHotEncoder(), cat_cols)])\n",
    "\n",
    "X_scaled = preprocess.fit_transform(X)"
   ]
  },
  {
   "cell_type": "markdown",
   "id": "cdbac732",
   "metadata": {},
   "source": [
    "### cheking different polynomial equations "
   ]
  },
  {
   "cell_type": "code",
   "execution_count": 175,
   "id": "2abe7102",
   "metadata": {},
   "outputs": [
    {
     "data": {
      "text/plain": [
       "[<matplotlib.lines.Line2D at 0x1e39203c040>]"
      ]
     },
     "execution_count": 175,
     "metadata": {},
     "output_type": "execute_result"
    },
    {
     "data": {
      "image/png": "[encoded data removed]",
      "text/plain": [
       "<Figure size 432x288 with 1 Axes>"
      ]
     },
     "metadata": {
      "needs_background": "light"
     },
     "output_type": "display_data"
    }
   ],
   "source": [
    "from sklearn.preprocessing import PolynomialFeatures\n",
    "import matplotlib.pyplot as plt\n",
    "xs = np.arange(1,8)\n",
    "scores = []\n",
    "x_train, x_test, y_train, y_test = train_test_split(X, Y, test_size=0.20, random_state=42, shuffle = True)\n",
    "for i in xs:\n",
    "    numerical_transformer = Pipeline([('scaler', StandardScaler()),\n",
    "                                      ('polynom', PolynomialFeatures(i))\n",
    "    ])\n",
    "    ct = ColumnTransformer([('num_transformer', numerical_transformer, num_cols),\n",
    "                            ('encoder', OneHotEncoder(handle_unknown='ignore'), cat_cols)])\n",
    "\n",
    "    pipeline = Pipeline([\n",
    "                       ('column_transformer', ct),\n",
    "                       ('linear_regression', LinearRegression() )\n",
    "    ])\n",
    "    pipeline.fit(x_train,y_train)\n",
    "    scores.append(pipeline.score(x_test, y_test))\n",
    "plt.plot(xs, scores)"
   ]
  },
  {
   "cell_type": "markdown",
   "id": "ba380e29",
   "metadata": {},
   "source": [
    "## we can see that 7-th degree polynomyal regression have highest r2 score (0.93)"
   ]
  },
  {
   "cell_type": "code",
   "execution_count": 177,
   "id": "2710940f",
   "metadata": {},
   "outputs": [
    {
     "data": {
      "text/plain": [
       "0.9275959778633777"
      ]
     },
     "execution_count": 177,
     "metadata": {},
     "output_type": "execute_result"
    }
   ],
   "source": [
    "numerical_transformer = Pipeline([('scaler', StandardScaler()),\n",
    "                                      ('polynom', PolynomialFeatures(7))\n",
    "    ])\n",
    "ct = ColumnTransformer([('num_transformer', numerical_transformer, num_cols),\n",
    "                            ('encoder', OneHotEncoder(handle_unknown='ignore'), cat_cols)])\n",
    "\n",
    "pipeline = Pipeline([\n",
    "                       ('column_transformer', ct),\n",
    "                       ('linear_regression', LinearRegression() )\n",
    "    ])\n",
    "pipeline.fit(x_train,y_train)\n",
    "pipeline.score(x_test, y_test)"
   ]
  },
  {
   "cell_type": "markdown",
   "id": "6a7b49ef",
   "metadata": {},
   "source": [
    "### lets try decision tree "
   ]
  },
  {
   "cell_type": "code",
   "execution_count": 178,
   "id": "a5236e9e",
   "metadata": {},
   "outputs": [
    {
     "data": {
      "text/plain": [
       "0.6301326985201058"
      ]
     },
     "execution_count": 178,
     "metadata": {},
     "output_type": "execute_result"
    }
   ],
   "source": [
    "from sklearn.tree import DecisionTreeRegressor\n",
    "regr_1 = DecisionTreeRegressor(max_depth=15)\n",
    "tree_transform = ColumnTransformer([\n",
    "                        ('encoder', OneHotEncoder(handle_unknown='ignore'), cat_cols)])\n",
    "tree_pipeline = Pipeline([\n",
    "                   ('column_transformer', tree_transform),\n",
    "                   ('tree_regression', regr_1)\n",
    "])\n",
    "tree_pipeline.fit(x_train, y_train)\n",
    "tree_pipeline.score(x_test, y_test)"
   ]
  },
  {
   "cell_type": "markdown",
   "id": "99260a72",
   "metadata": {},
   "source": [
    "#### we see very bad r2 score. i don't know why, but scikit learn OneHotEncoder work very bad with DecisionTreeRegressor. \n",
    "#### I will use pd.get_dummies method, it is much better here."
   ]
  },
  {
   "cell_type": "code",
   "execution_count": 182,
   "id": "df48d960",
   "metadata": {},
   "outputs": [
    {
     "name": "stdout",
     "output_type": "stream",
     "text": [
      "0.9329884964081886\n"
     ]
    },
    {
     "data": {
      "image/png": "[encoded data removed]",
      "text/plain": [
       "<Figure size 432x288 with 1 Axes>"
      ]
     },
     "metadata": {
      "needs_background": "light"
     },
     "output_type": "display_data"
    }
   ],
   "source": [
    "xs = np.arange(1,30)\n",
    "scores = []\n",
    "X_tree = pd.get_dummies(X, columns=['model','transmission', 'fuelType','mark'])\n",
    "X_tree = X_tree.to_numpy()\n",
    "x_train1, x_test1, y_train1, y_test1 = train_test_split(X_tree, Y, test_size=0.20, random_state=22, shuffle = True)\n",
    "for i in xs:\n",
    "    regr_1 = DecisionTreeRegressor(max_depth=i)\n",
    "    regr_1.fit(x_train1, y_train1)\n",
    "    scores.append(regr_1.score(x_test1, y_test1))\n",
    "plt.plot(xs, scores)\n",
    "print(max(scores))"
   ]
  },
  {
   "cell_type": "markdown",
   "id": "35d39b8e",
   "metadata": {},
   "source": [
    "### I have very good score, but lets try different parameters with GridSearchCV"
   ]
  },
  {
   "cell_type": "code",
   "execution_count": 145,
   "id": "0ec3231b",
   "metadata": {},
   "outputs": [],
   "source": [
    "X_tree = pd.get_dummies(X, columns=['model','transmission', 'fuelType','mark'])\n",
    "X_tree = X_tree.to_numpy()\n",
    "x_train1, x_test1, y_train1, y_test1 = train_test_split(X_tree, Y, test_size=0.20, random_state=22, shuffle = True)"
   ]
  },
  {
   "cell_type": "code",
   "execution_count": 179,
   "id": "365febf6",
   "metadata": {},
   "outputs": [
    {
     "name": "stdout",
     "output_type": "stream",
     "text": [
      "0.94180814603875\n",
      "{'max_depth': 20, 'min_samples_leaf': 2, 'min_samples_split': 10}\n"
     ]
    }
   ],
   "source": [
    "from sklearn.model_selection import GridSearchCV\n",
    "\n",
    "parameters = { \"min_samples_split\": [2,5,7,10],\n",
    "                \"min_samples_leaf\": [1,2,5],\n",
    "             'max_depth':[5,7,10,15,20]}\n",
    "gs_cv = GridSearchCV(DecisionTreeRegressor() , parameters)\n",
    "gs_cv.fit(x_train1, y_train1)\n",
    "print(gs_cv.score(x_test1,y_test1))\n",
    "print(gs_cv.best_params_)"
   ]
  },
  {
   "cell_type": "markdown",
   "id": "3c5e8c84",
   "metadata": {},
   "source": [
    "## i have nice score with this parameters. I think it's enough. decision tree showed himself better than linear regression but maybe should to try drig search for linear regresion."
   ]
  },
  {
   "cell_type": "code",
   "execution_count": null,
   "id": "cc6c8da8",
   "metadata": {},
   "outputs": [],
   "source": []
  },
  {
   "cell_type": "code",
   "execution_count": 147,
   "id": "d71902c2",
   "metadata": {},
   "outputs": [
    {
     "data": {
      "text/plain": [
       "array([[4.6262e+04, 1.4500e+02, 6.0100e+01, ..., 0.0000e+00, 0.0000e+00,\n",
       "        1.0000e+00],\n",
       "       [1.6541e+04, 1.4500e+02, 3.6200e+01, ..., 0.0000e+00, 1.0000e+00,\n",
       "        0.0000e+00],\n",
       "       [2.7554e+04, 1.4500e+02, 6.1400e+01, ..., 0.0000e+00, 0.0000e+00,\n",
       "        0.0000e+00],\n",
       "       ...,\n",
       "       [7.2040e+03, 2.0000e+02, 4.2200e+01, ..., 0.0000e+00, 1.0000e+00,\n",
       "        0.0000e+00],\n",
       "       [2.0052e+04, 1.4500e+02, 5.0400e+01, ..., 0.0000e+00, 1.0000e+00,\n",
       "        0.0000e+00],\n",
       "       [4.0930e+03, 1.4500e+02, 3.6700e+01, ..., 0.0000e+00, 0.0000e+00,\n",
       "        0.0000e+00]])"
      ]
     },
     "execution_count": 147,
     "metadata": {},
     "output_type": "execute_result"
    }
   ],
   "source": []
  },
  {
   "cell_type": "code",
   "execution_count": null,
   "id": "4bcc901e",
   "metadata": {},
   "outputs": [],
   "source": []
  }
 ],
 "metadata": {
  "kernelspec": {
   "display_name": "Python 3 (ipykernel)",
   "language": "python",
   "name": "python3"
  },
  "language_info": {
   "codemirror_mode": {
    "name": "ipython",
    "version": 3
   },
   "file_extension": ".py",
   "mimetype": "text/x-python",
   "name": "python",
   "nbconvert_exporter": "python",
   "pygments_lexer": "ipython3",
   "version": "3.10.4"
  }
 },
 "nbformat": 4,
 "nbformat_minor": 5
}
